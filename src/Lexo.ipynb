{
 "cells": [
  {
   "cell_type": "markdown",
   "id": "10c572ca",
   "metadata": {},
   "source": [
    "# Importing Libraries"
   ]
  },
  {
   "cell_type": "code",
   "execution_count": 2,
   "id": "d15a01f4",
   "metadata": {},
   "outputs": [],
   "source": [
    "from tkinter import *\n",
    "import re "
   ]
  },
  {
   "cell_type": "markdown",
   "id": "33de090d",
   "metadata": {},
   "source": [
    "# Main Window"
   ]
  },
  {
   "cell_type": "code",
   "execution_count": 3,
   "id": "d4c8cce7",
   "metadata": {},
   "outputs": [],
   "source": [
    "root = Tk()"
   ]
  },
  {
   "cell_type": "markdown",
   "id": "5fdcc293",
   "metadata": {},
   "source": [
    "# Lexical Analyser Function"
   ]
  },
  {
   "cell_type": "code",
   "execution_count": 4,
   "id": "f736ab8b",
   "metadata": {},
   "outputs": [],
   "source": [
    "count = 0\n",
    "def oneLineLexer(string):\n",
    "    # print the string\n",
    "    print(string)\n",
    "    # if the string contains words or A-Z charachters and a number at the end, then print(identifier)\n",
    "    if(re.findall(r'[A-Z|a-z]+\\d?', string)):\n",
    "        identifier = re.findall(r'[A-Z|a-z]+\\d?', string)\n",
    "        for iD in identifier:\n",
    "            #print iD\n",
    "            if (iD == 'if' or iD == 'for' or iD == 'else' or iD == 'print' or iD ==  'int' or iD=='float'):\n",
    "                output_window.insert(END, \"{key,%s}\\n\" % iD)\n",
    "            else:\n",
    "                output_window.insert(END, \"{id,%s}\\n\" % iD)\n",
    "\n",
    "    # if the string contains operators: =, +, or >, then print(operator)\n",
    "    if(re.findall(r'(=|\\+|>|<|-)', string)):\n",
    "        operator = re.findall(r'(=|\\+|>|<|-)', string)\n",
    "        for op in operator:\n",
    "            output_window.insert(END, \"{op,%s}\\n\" % op)\n",
    "    # if the string contains literals: numbers, then print(literals)\n",
    "    if(re.findall(r'[^A-Z|a-z|>|\\s][0-9]+', string)):\n",
    "        literal = re.findall(r'[^A-Z|a-z|>|\\s][0-9]+', string)\n",
    "        for num in literal:\n",
    "            if num[0] == \"=\":\n",
    "                output_window.insert(END, \"{num,%s}\\n\" % num[1:])\n",
    "            else:\n",
    "                output_window.insert(END, \"{num,%s}\\n\" % num)\n",
    "\n",
    "    # if the string contains separators: ;,(),:, \"\", then print(separators)\n",
    "    if(re.findall(r'(;|:|\\(|\\)|\\\"|\\\")', string)):\n",
    "        separator = re.findall(r'(;|:|\\(|\\)|\\\"|\\\")', string)\n",
    "        for sep in separator:\n",
    "            output_window.insert(END, \"{sep,%s}\\n\" % sep)\n",
    "    return"
   ]
  },
  {
   "cell_type": "markdown",
   "id": "9937ad50",
   "metadata": {},
   "source": [
    "# Copying Input"
   ]
  },
  {
   "cell_type": "code",
   "execution_count": 5,
   "id": "a0ec98cc",
   "metadata": {},
   "outputs": [],
   "source": [
    "def copyInput():\n",
    "    global count\n",
    "    count += 1\n",
    "\n",
    "    temp = input_window.get(\"1.0\", END)\n",
    "    textStr = temp\n",
    "    textList = textStr.split(\"\\n\")\n",
    "    # pass count and textList to outputText:\n",
    "\n",
    "    outputText(count, textList)\n",
    "    return"
   ]
  },
  {
   "cell_type": "markdown",
   "id": "a4d4adb3",
   "metadata": {},
   "source": [
    "# Printing Output"
   ]
  },
  {
   "cell_type": "code",
   "execution_count": 6,
   "id": "ca3e5865",
   "metadata": {},
   "outputs": [],
   "source": [
    "def outputText(count, textList): \n",
    "    if count < len(textList):\n",
    "       # output_window.insert(END, str(textList[count - 1])) + \"\\n\")\n",
    "        oneLineLexer(str(textList[count - 1]))\n",
    "        counterLabel.config(text = count)\n",
    "        #analyzeInput(textList)\n",
    "    return"
   ]
  },
  {
   "cell_type": "markdown",
   "id": "46254680",
   "metadata": {},
   "source": [
    "# Quit Window"
   ]
  },
  {
   "cell_type": "code",
   "execution_count": 7,
   "id": "23354207",
   "metadata": {},
   "outputs": [],
   "source": [
    "def quitWindow():\n",
    "    root.destroy()"
   ]
  },
  {
   "cell_type": "markdown",
   "id": "1c3c1de0",
   "metadata": {},
   "source": [
    "# Center Window"
   ]
  },
  {
   "cell_type": "code",
   "execution_count": 8,
   "id": "9c3d7324",
   "metadata": {},
   "outputs": [],
   "source": [
    "root.title(\"Lexo: Lexical Analyzer\")\n",
    "root.update_idletasks()\n",
    "width = 500\n",
    "height = 500\n",
    "x = (root.winfo_screenwidth() // 2) - (width // 2)\n",
    "y = (root.winfo_screenheight() // 2) - (height // 2)\n",
    "root.geometry(\"{}x{}+{}+{}\".format(width, height, x, y))\n",
    "    \n",
    "# Input Label:\n",
    "inputLabel = Label(root, text = \"Input Source Code:\", font=(\"Arial\", 15), fg = \"black\")\n",
    "inputLabel.grid(row = 0, column = 0, sticky = W)\n",
    "\n",
    "# Input Window:\n",
    "input_window = Text(root, height = 10, width = 28, bg = \"white\", highlightbackground = \"black\" )\n",
    "input_window.grid(row = 1, column = 0, sticky = W)\n",
    "\n",
    "\n",
    "# Result button:    \n",
    "result = Button(root, text = \"Result\", command = copyInput, font=(\"Arial\", 15), relief=RAISED, bg=\"blue\", fg=\"white\")\n",
    "result.grid(row = 2, pady=5, column = 1, sticky = W)\n",
    "\n",
    "\n",
    "# Current Line Label:\n",
    "lineLabel = Label(root, text = \"Current Proccessing Line:\", font=(\"Arial\", 15), fg = \"black\")\n",
    "lineLabel.grid(row = 3, column = 0, pady=10, sticky = W)\n",
    "\n",
    "# Counter Label:\n",
    "counterLabel = Label(root, font=(\"Arial\", 15), fg = \"red\")\n",
    "counterLabel.grid(row = 3, column = 1,   sticky = W)\n",
    "\n",
    "# Output Label:\n",
    "outputLabel = Label(root, text = \"Output:\",font=(\"Arial\", 15), fg = \"green\")\n",
    "outputLabel.grid(row = 0, column = 1, sticky = W)\n",
    "\n",
    "# Output Window:\n",
    "output_window = Text(root, height = 10, width = 30, bg = \"white\", highlightbackground = \"black\" )\n",
    "output_window.grid(row = 1, column = 1, sticky = E)\n",
    "\n",
    "# Keys\n",
    "infoLabel = Label(root, text=\"id means identifiers\", font=(\"Arial\", 12), fg = \"blue\")\n",
    "infoLabel.grid(row = 4, column = 0,  sticky = W)\n",
    "\n",
    "infoLabel1 = Label(root, text=\"op means operators\", font=(\"Arial\", 12), fg = \"brown\")\n",
    "infoLabel1.grid(row = 5, column = 0,  sticky = W)\n",
    "\n",
    "infoLabel2 = Label(root, text=\"num means numerals\", font=(\"Arial\", 12), fg = \"grey\")\n",
    "infoLabel2.grid(row = 6, column = 0, sticky = W)\n",
    "\n",
    "infoLabel3 = Label(root, text=\"key means keywords\", font=(\"Arial\", 12), fg = \"navy blue\")\n",
    "infoLabel3.grid(row = 7, column = 0, sticky = W)\n",
    "\n",
    "infoLabel3 = Label(root, text=\"sep means seperator\", font=(\"Arial\", 12), fg = \"red\")\n",
    "infoLabel3.grid(row = 8, column = 0, sticky = W)\n",
    "\n",
    "# run main\n",
    "root.mainloop()"
   ]
  },
  {
   "cell_type": "code",
   "execution_count": 11,
   "id": "5ff98d62",
   "metadata": {},
   "outputs": [],
   "source": [
    "# Sample Input - \n",
    "\n",
    "# int a=10;\n",
    "# float b;\n",
    "# b=a+5;"
   ]
  },
  {
   "cell_type": "code",
   "execution_count": null,
   "id": "779fcb2d",
   "metadata": {},
   "outputs": [],
   "source": []
  }
 ],
 "metadata": {
  "kernelspec": {
   "display_name": "Python 3 (ipykernel)",
   "language": "python",
   "name": "python3"
  },
  "language_info": {
   "codemirror_mode": {
    "name": "ipython",
    "version": 3
   },
   "file_extension": ".py",
   "mimetype": "text/x-python",
   "name": "python",
   "nbconvert_exporter": "python",
   "pygments_lexer": "ipython3",
   "version": "3.10.4"
  }
 },
 "nbformat": 4,
 "nbformat_minor": 5
}
